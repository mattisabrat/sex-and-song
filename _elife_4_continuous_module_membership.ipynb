{
 "cells": [
  {
   "cell_type": "markdown",
   "id": "a779c206",
   "metadata": {},
   "source": [
    "# Set up paths"
   ]
  },
  {
   "cell_type": "code",
   "execution_count": 1,
   "id": "1cf3e9a3",
   "metadata": {},
   "outputs": [
    {
     "name": "stdout",
     "output_type": "stream",
     "text": [
      "[1] \"/v-data2/matt_davenport/HaNa_RE/HaNa_Reanalysis/hana_reanalysis_lib_r42\"\n"
     ]
    },
    {
     "data": {
      "text/html": [
       "<style>\n",
       ".list-inline {list-style: none; margin:0; padding: 0}\n",
       ".list-inline>li {display: inline-block}\n",
       ".list-inline>li:not(:last-child)::after {content: \"\\00b7\"; padding: 0 .5ex}\n",
       "</style>\n",
       "<ol class=list-inline><li>'/v-data2/matt_davenport/HaNa_RE/HaNa_Reanalysis/hana_reanalysis_lib_r42'</li><li>'/home/mdavenport/bin/R4.2.1/R-4.2.1/library'</li></ol>\n"
      ],
      "text/latex": [
       "\\begin{enumerate*}\n",
       "\\item '/v-data2/matt\\_davenport/HaNa\\_RE/HaNa\\_Reanalysis/hana\\_reanalysis\\_lib\\_r42'\n",
       "\\item '/home/mdavenport/bin/R4.2.1/R-4.2.1/library'\n",
       "\\end{enumerate*}\n"
      ],
      "text/markdown": [
       "1. '/v-data2/matt_davenport/HaNa_RE/HaNa_Reanalysis/hana_reanalysis_lib_r42'\n",
       "2. '/home/mdavenport/bin/R4.2.1/R-4.2.1/library'\n",
       "\n",
       "\n"
      ],
      "text/plain": [
       "[1] \"/v-data2/matt_davenport/HaNa_RE/HaNa_Reanalysis/hana_reanalysis_lib_r42\"\n",
       "[2] \"/home/mdavenport/bin/R4.2.1/R-4.2.1/library\"                            "
      ]
     },
     "metadata": {},
     "output_type": "display_data"
    }
   ],
   "source": [
    "# Specify the lib path\n",
    "lib_path<-paste(getwd(),'/hana_reanalysis_lib_r42',sep='')\n",
    "print(lib_path)\n",
    "\n",
    "# Set the path\n",
    ".libPaths(lib_path)\n",
    ".libPaths()\n",
    "\n",
    "#Set the vis device\n",
    "setHook(packageEvent(\"grDevices\", \"onLoad\"),\n",
    "function(...) grDevices::X11.options(type='cairo'))\n",
    "options(device='x11')"
   ]
  },
  {
   "cell_type": "markdown",
   "id": "676fb86f",
   "metadata": {},
   "source": [
    "# 4 - Defining Continuous Module Membership"
   ]
  },
  {
   "cell_type": "code",
   "execution_count": 2,
   "id": "ced109de",
   "metadata": {},
   "outputs": [
    {
     "name": "stderr",
     "output_type": "stream",
     "text": [
      "── \u001b[1mAttaching packages\u001b[22m ───────────────────────────────────────────────────────────────────────────────────────────────────────────────────────────────────────────────────────────────────────── tidyverse 1.3.2 ──\n",
      "\u001b[32m✔\u001b[39m \u001b[34mggplot2\u001b[39m 3.3.6      \u001b[32m✔\u001b[39m \u001b[34mpurrr  \u001b[39m 0.3.5 \n",
      "\u001b[32m✔\u001b[39m \u001b[34mtibble \u001b[39m 3.1.8      \u001b[32m✔\u001b[39m \u001b[34mdplyr  \u001b[39m 1.0.10\n",
      "\u001b[32m✔\u001b[39m \u001b[34mtidyr  \u001b[39m 1.2.1      \u001b[32m✔\u001b[39m \u001b[34mstringr\u001b[39m 1.4.1 \n",
      "\u001b[32m✔\u001b[39m \u001b[34mreadr  \u001b[39m 2.1.3      \u001b[32m✔\u001b[39m \u001b[34mforcats\u001b[39m 0.5.2 \n",
      "── \u001b[1mConflicts\u001b[22m ──────────────────────────────────────────────────────────────────────────────────────────────────────────────────────────────────────────────────────────────────────────── tidyverse_conflicts() ──\n",
      "\u001b[31m✖\u001b[39m \u001b[34mdplyr\u001b[39m::\u001b[32mfilter()\u001b[39m masks \u001b[34mstats\u001b[39m::filter()\n",
      "\u001b[31m✖\u001b[39m \u001b[34mdplyr\u001b[39m::\u001b[32mlag()\u001b[39m    masks \u001b[34mstats\u001b[39m::lag()\n",
      "Loading required package: dynamicTreeCut\n",
      "\n",
      "Loading required package: fastcluster\n",
      "\n",
      "\n",
      "Attaching package: ‘fastcluster’\n",
      "\n",
      "\n",
      "The following object is masked from ‘package:stats’:\n",
      "\n",
      "    hclust\n",
      "\n",
      "\n",
      "\n",
      "\n",
      "\n",
      "Attaching package: ‘WGCNA’\n",
      "\n",
      "\n",
      "The following object is masked from ‘package:stats’:\n",
      "\n",
      "    cor\n",
      "\n",
      "\n"
     ]
    }
   ],
   "source": [
    "library(tidyverse)\n",
    "library(WGCNA)"
   ]
  },
  {
   "cell_type": "code",
   "execution_count": 3,
   "id": "5d35df32",
   "metadata": {},
   "outputs": [
    {
     "data": {
      "text/html": [
       "<style>\n",
       ".list-inline {list-style: none; margin:0; padding: 0}\n",
       ".list-inline>li {display: inline-block}\n",
       ".list-inline>li:not(:last-child)::after {content: \"\\00b7\"; padding: 0 .5ex}\n",
       "</style>\n",
       "<ol class=list-inline><li>'colors'</li><li>'unmergedColors'</li><li>'cutreeLabels'</li><li>'MEs'</li><li>'MEsOK'</li><li>'input_data'</li><li>'MEG_res_tbls'</li><li>'node_me_tbls'</li></ol>\n"
      ],
      "text/latex": [
       "\\begin{enumerate*}\n",
       "\\item 'colors'\n",
       "\\item 'unmergedColors'\n",
       "\\item 'cutreeLabels'\n",
       "\\item 'MEs'\n",
       "\\item 'MEsOK'\n",
       "\\item 'input\\_data'\n",
       "\\item 'MEG\\_res\\_tbls'\n",
       "\\item 'node\\_me\\_tbls'\n",
       "\\end{enumerate*}\n"
      ],
      "text/markdown": [
       "1. 'colors'\n",
       "2. 'unmergedColors'\n",
       "3. 'cutreeLabels'\n",
       "4. 'MEs'\n",
       "5. 'MEsOK'\n",
       "6. 'input_data'\n",
       "7. 'MEG_res_tbls'\n",
       "8. 'node_me_tbls'\n",
       "\n",
       "\n"
      ],
      "text/plain": [
       "[1] \"colors\"         \"unmergedColors\" \"cutreeLabels\"   \"MEs\"           \n",
       "[5] \"MEsOK\"          \"input_data\"     \"MEG_res_tbls\"   \"node_me_tbls\"  "
      ]
     },
     "metadata": {},
     "output_type": "display_data"
    }
   ],
   "source": [
    "net <- readRDS('3_wgcna_net_associatedToTraits.rds')\n",
    "names(net)"
   ]
  },
  {
   "cell_type": "markdown",
   "id": "0c4ef4eb",
   "metadata": {},
   "source": [
    "## First, lets wrangle that colors thing into a nice tibble."
   ]
  },
  {
   "cell_type": "code",
   "execution_count": 4,
   "id": "32f2630d",
   "metadata": {},
   "outputs": [
    {
     "data": {
      "text/html": [
       "<table class=\"dataframe\">\n",
       "<caption>A tibble: 6 × 2</caption>\n",
       "<thead>\n",
       "\t<tr><th scope=col>me_assigned</th><th scope=col>gene_id</th></tr>\n",
       "\t<tr><th scope=col>&lt;fct&gt;</th><th scope=col>&lt;chr&gt;</th></tr>\n",
       "</thead>\n",
       "<tbody>\n",
       "\t<tr><td>X</td><td>A1CF </td></tr>\n",
       "\t<tr><td>X</td><td>A2M  </td></tr>\n",
       "\t<tr><td>J</td><td>A4GNT</td></tr>\n",
       "\t<tr><td>D</td><td>AAAS </td></tr>\n",
       "\t<tr><td>A</td><td>AACS </td></tr>\n",
       "\t<tr><td>X</td><td>AADAC</td></tr>\n",
       "</tbody>\n",
       "</table>\n"
      ],
      "text/latex": [
       "A tibble: 6 × 2\n",
       "\\begin{tabular}{ll}\n",
       " me\\_assigned & gene\\_id\\\\\n",
       " <fct> & <chr>\\\\\n",
       "\\hline\n",
       "\t X & A1CF \\\\\n",
       "\t X & A2M  \\\\\n",
       "\t J & A4GNT\\\\\n",
       "\t D & AAAS \\\\\n",
       "\t A & AACS \\\\\n",
       "\t X & AADAC\\\\\n",
       "\\end{tabular}\n"
      ],
      "text/markdown": [
       "\n",
       "A tibble: 6 × 2\n",
       "\n",
       "| me_assigned &lt;fct&gt; | gene_id &lt;chr&gt; |\n",
       "|---|---|\n",
       "| X | A1CF  |\n",
       "| X | A2M   |\n",
       "| J | A4GNT |\n",
       "| D | AAAS  |\n",
       "| A | AACS  |\n",
       "| X | AADAC |\n",
       "\n"
      ],
      "text/plain": [
       "  me_assigned gene_id\n",
       "1 X           A1CF   \n",
       "2 X           A2M    \n",
       "3 J           A4GNT  \n",
       "4 D           AAAS   \n",
       "5 A           AACS   \n",
       "6 X           AADAC  "
      ]
     },
     "metadata": {},
     "output_type": "display_data"
    },
    {
     "data": {
      "text/html": [
       "<style>\n",
       ".list-inline {list-style: none; margin:0; padding: 0}\n",
       ".list-inline>li {display: inline-block}\n",
       ".list-inline>li:not(:last-child)::after {content: \"\\00b7\"; padding: 0 .5ex}\n",
       "</style>\n",
       "<ol class=list-inline><li>'A'</li><li>'B'</li><li>'C'</li><li>'D'</li><li>'E'</li><li>'F'</li><li>'G'</li><li>'H'</li><li>'I'</li><li>'J'</li><li>'K'</li><li>'L'</li><li>'X'</li></ol>\n"
      ],
      "text/latex": [
       "\\begin{enumerate*}\n",
       "\\item 'A'\n",
       "\\item 'B'\n",
       "\\item 'C'\n",
       "\\item 'D'\n",
       "\\item 'E'\n",
       "\\item 'F'\n",
       "\\item 'G'\n",
       "\\item 'H'\n",
       "\\item 'I'\n",
       "\\item 'J'\n",
       "\\item 'K'\n",
       "\\item 'L'\n",
       "\\item 'X'\n",
       "\\end{enumerate*}\n"
      ],
      "text/markdown": [
       "1. 'A'\n",
       "2. 'B'\n",
       "3. 'C'\n",
       "4. 'D'\n",
       "5. 'E'\n",
       "6. 'F'\n",
       "7. 'G'\n",
       "8. 'H'\n",
       "9. 'I'\n",
       "10. 'J'\n",
       "11. 'K'\n",
       "12. 'L'\n",
       "13. 'X'\n",
       "\n",
       "\n"
      ],
      "text/plain": [
       " [1] \"A\" \"B\" \"C\" \"D\" \"E\" \"F\" \"G\" \"H\" \"I\" \"J\" \"K\" \"L\" \"X\""
      ]
     },
     "metadata": {},
     "output_type": "display_data"
    }
   ],
   "source": [
    "gene_tbl <- net$colors %>% as.data.frame\n",
    "colnames(gene_tbl) <- 'me_assigned'\n",
    "gene_tbl$gene_id<- row.names(gene_tbl)\n",
    "gene_tbl <- gene_tbl %>% as_tibble %>% mutate(me_assigned = recode_factor(as.factor(me_assigned),\n",
    "                                                        '1'='A',\n",
    "                                                        '2'='B',\n",
    "                                                        '3'='C',\n",
    "                                                        '4'='D',\n",
    "                                                        '5'='E',\n",
    "                                                        '6'='F',\n",
    "\n",
    "                                                        '7'='G',\n",
    "                                                        '8'='H',\n",
    "                                                        '9'='I',\n",
    "                                                        '10'='J',\n",
    "                                                        '11'='K',\n",
    "\n",
    "                                                        '12'='L',\n",
    "                                                        '13'='X'))\n",
    "head(gene_tbl)\n",
    "levels(gene_tbl$me_assigned)"
   ]
  },
  {
   "cell_type": "markdown",
   "id": "74dd0906",
   "metadata": {},
   "source": [
    "## Now get the expression of genes (row samples cols genes and MEGs)"
   ]
  },
  {
   "cell_type": "code",
   "execution_count": 5,
   "id": "fdf3b04d",
   "metadata": {},
   "outputs": [
    {
     "data": {
      "text/html": [
       "<table class=\"dataframe\">\n",
       "<caption>A tibble: 6 × 20791</caption>\n",
       "<thead>\n",
       "\t<tr><th scope=col>sample_id</th><th scope=col>A1CF</th><th scope=col>A2M</th><th scope=col>A4GNT</th><th scope=col>AAAS</th><th scope=col>AACS</th><th scope=col>AADAC</th><th scope=col>AADAT</th><th scope=col>AAGAB</th><th scope=col>AAK1</th><th scope=col>⋯</th><th scope=col>ZSWIM7</th><th scope=col>ZSWIM8</th><th scope=col>ZUP1</th><th scope=col>ZW10</th><th scope=col>ZWILCH</th><th scope=col>ZXDC</th><th scope=col>ZYG11B</th><th scope=col>ZYX</th><th scope=col>ZZEF1</th><th scope=col>ZZZ3</th></tr>\n",
       "\t<tr><th scope=col>&lt;chr&gt;</th><th scope=col>&lt;dbl&gt;</th><th scope=col>&lt;dbl&gt;</th><th scope=col>&lt;dbl&gt;</th><th scope=col>&lt;dbl&gt;</th><th scope=col>&lt;dbl&gt;</th><th scope=col>&lt;dbl&gt;</th><th scope=col>&lt;dbl&gt;</th><th scope=col>&lt;dbl&gt;</th><th scope=col>&lt;dbl&gt;</th><th scope=col>⋯</th><th scope=col>&lt;dbl&gt;</th><th scope=col>&lt;dbl&gt;</th><th scope=col>&lt;dbl&gt;</th><th scope=col>&lt;dbl&gt;</th><th scope=col>&lt;dbl&gt;</th><th scope=col>&lt;dbl&gt;</th><th scope=col>&lt;dbl&gt;</th><th scope=col>&lt;dbl&gt;</th><th scope=col>&lt;dbl&gt;</th><th scope=col>&lt;dbl&gt;</th></tr>\n",
       "</thead>\n",
       "<tbody>\n",
       "\t<tr><td>fe_an_1</td><td>0.00000000</td><td>7.093980</td><td>0.00000000</td><td>7.692193</td><td>49.32907</td><td>0.03223515</td><td>0.6634673</td><td>31.15091</td><td>39.58131</td><td>⋯</td><td>12.36159</td><td>2.094811</td><td>11.435813</td><td>4.783891</td><td>2.111552</td><td>3.601635</td><td>50.19418</td><td>8.886919</td><td>6.180941</td><td> 8.451389</td></tr>\n",
       "\t<tr><td>fe_an_2</td><td>0.04557418</td><td>4.603331</td><td>0.00000000</td><td>7.222035</td><td>44.81534</td><td>0.00000000</td><td>0.3810742</td><td>33.07874</td><td>35.77192</td><td>⋯</td><td>19.13082</td><td>1.606932</td><td> 7.308235</td><td>5.893162</td><td>3.651458</td><td>2.799674</td><td>60.55626</td><td>8.327203</td><td>5.846237</td><td> 6.702416</td></tr>\n",
       "\t<tr><td>fe_an_3</td><td>0.02213098</td><td>6.060817</td><td>0.00000000</td><td>6.012078</td><td>37.57134</td><td>0.00000000</td><td>1.1488581</td><td>32.89971</td><td>43.11340</td><td>⋯</td><td>17.90711</td><td>2.392109</td><td> 7.846031</td><td>4.413440</td><td>3.580818</td><td>2.817938</td><td>52.33897</td><td>8.748009</td><td>8.576732</td><td> 8.207267</td></tr>\n",
       "\t<tr><td>fe_ax_1</td><td>0.00000000</td><td>9.463016</td><td>0.06496191</td><td>4.592011</td><td>22.15344</td><td>0.03798045</td><td>1.0960165</td><td>26.90928</td><td>29.74793</td><td>⋯</td><td>14.90511</td><td>3.796637</td><td>15.475760</td><td>6.061926</td><td>3.309983</td><td>3.197201</td><td>16.52732</td><td>7.346755</td><td>5.679001</td><td>10.680909</td></tr>\n",
       "\t<tr><td>fe_ax_2</td><td>0.04701613</td><td>6.334622</td><td>0.15844851</td><td>9.687336</td><td>19.60612</td><td>0.04631903</td><td>0.3669225</td><td>28.41250</td><td>35.30265</td><td>⋯</td><td>17.87317</td><td>3.396628</td><td>11.164825</td><td>5.079860</td><td>2.392111</td><td>3.205963</td><td>14.71874</td><td>6.689560</td><td>4.276965</td><td> 8.967043</td></tr>\n",
       "\t<tr><td>fe_ax_3</td><td>0.00000000</td><td>5.639964</td><td>0.00000000</td><td>6.831030</td><td>16.69971</td><td>0.00000000</td><td>1.3223168</td><td>35.06826</td><td>32.36720</td><td>⋯</td><td>11.81573</td><td>5.945649</td><td> 8.521584</td><td>2.561196</td><td>3.114575</td><td>2.933240</td><td>12.00139</td><td>5.899499</td><td>6.239419</td><td>12.185660</td></tr>\n",
       "</tbody>\n",
       "</table>\n"
      ],
      "text/latex": [
       "A tibble: 6 × 20791\n",
       "\\begin{tabular}{lllllllllllllllllllll}\n",
       " sample\\_id & A1CF & A2M & A4GNT & AAAS & AACS & AADAC & AADAT & AAGAB & AAK1 & ⋯ & ZSWIM7 & ZSWIM8 & ZUP1 & ZW10 & ZWILCH & ZXDC & ZYG11B & ZYX & ZZEF1 & ZZZ3\\\\\n",
       " <chr> & <dbl> & <dbl> & <dbl> & <dbl> & <dbl> & <dbl> & <dbl> & <dbl> & <dbl> & ⋯ & <dbl> & <dbl> & <dbl> & <dbl> & <dbl> & <dbl> & <dbl> & <dbl> & <dbl> & <dbl>\\\\\n",
       "\\hline\n",
       "\t fe\\_an\\_1 & 0.00000000 & 7.093980 & 0.00000000 & 7.692193 & 49.32907 & 0.03223515 & 0.6634673 & 31.15091 & 39.58131 & ⋯ & 12.36159 & 2.094811 & 11.435813 & 4.783891 & 2.111552 & 3.601635 & 50.19418 & 8.886919 & 6.180941 &  8.451389\\\\\n",
       "\t fe\\_an\\_2 & 0.04557418 & 4.603331 & 0.00000000 & 7.222035 & 44.81534 & 0.00000000 & 0.3810742 & 33.07874 & 35.77192 & ⋯ & 19.13082 & 1.606932 &  7.308235 & 5.893162 & 3.651458 & 2.799674 & 60.55626 & 8.327203 & 5.846237 &  6.702416\\\\\n",
       "\t fe\\_an\\_3 & 0.02213098 & 6.060817 & 0.00000000 & 6.012078 & 37.57134 & 0.00000000 & 1.1488581 & 32.89971 & 43.11340 & ⋯ & 17.90711 & 2.392109 &  7.846031 & 4.413440 & 3.580818 & 2.817938 & 52.33897 & 8.748009 & 8.576732 &  8.207267\\\\\n",
       "\t fe\\_ax\\_1 & 0.00000000 & 9.463016 & 0.06496191 & 4.592011 & 22.15344 & 0.03798045 & 1.0960165 & 26.90928 & 29.74793 & ⋯ & 14.90511 & 3.796637 & 15.475760 & 6.061926 & 3.309983 & 3.197201 & 16.52732 & 7.346755 & 5.679001 & 10.680909\\\\\n",
       "\t fe\\_ax\\_2 & 0.04701613 & 6.334622 & 0.15844851 & 9.687336 & 19.60612 & 0.04631903 & 0.3669225 & 28.41250 & 35.30265 & ⋯ & 17.87317 & 3.396628 & 11.164825 & 5.079860 & 2.392111 & 3.205963 & 14.71874 & 6.689560 & 4.276965 &  8.967043\\\\\n",
       "\t fe\\_ax\\_3 & 0.00000000 & 5.639964 & 0.00000000 & 6.831030 & 16.69971 & 0.00000000 & 1.3223168 & 35.06826 & 32.36720 & ⋯ & 11.81573 & 5.945649 &  8.521584 & 2.561196 & 3.114575 & 2.933240 & 12.00139 & 5.899499 & 6.239419 & 12.185660\\\\\n",
       "\\end{tabular}\n"
      ],
      "text/markdown": [
       "\n",
       "A tibble: 6 × 20791\n",
       "\n",
       "| sample_id &lt;chr&gt; | A1CF &lt;dbl&gt; | A2M &lt;dbl&gt; | A4GNT &lt;dbl&gt; | AAAS &lt;dbl&gt; | AACS &lt;dbl&gt; | AADAC &lt;dbl&gt; | AADAT &lt;dbl&gt; | AAGAB &lt;dbl&gt; | AAK1 &lt;dbl&gt; | ⋯ ⋯ | ZSWIM7 &lt;dbl&gt; | ZSWIM8 &lt;dbl&gt; | ZUP1 &lt;dbl&gt; | ZW10 &lt;dbl&gt; | ZWILCH &lt;dbl&gt; | ZXDC &lt;dbl&gt; | ZYG11B &lt;dbl&gt; | ZYX &lt;dbl&gt; | ZZEF1 &lt;dbl&gt; | ZZZ3 &lt;dbl&gt; |\n",
       "|---|---|---|---|---|---|---|---|---|---|---|---|---|---|---|---|---|---|---|---|---|\n",
       "| fe_an_1 | 0.00000000 | 7.093980 | 0.00000000 | 7.692193 | 49.32907 | 0.03223515 | 0.6634673 | 31.15091 | 39.58131 | ⋯ | 12.36159 | 2.094811 | 11.435813 | 4.783891 | 2.111552 | 3.601635 | 50.19418 | 8.886919 | 6.180941 |  8.451389 |\n",
       "| fe_an_2 | 0.04557418 | 4.603331 | 0.00000000 | 7.222035 | 44.81534 | 0.00000000 | 0.3810742 | 33.07874 | 35.77192 | ⋯ | 19.13082 | 1.606932 |  7.308235 | 5.893162 | 3.651458 | 2.799674 | 60.55626 | 8.327203 | 5.846237 |  6.702416 |\n",
       "| fe_an_3 | 0.02213098 | 6.060817 | 0.00000000 | 6.012078 | 37.57134 | 0.00000000 | 1.1488581 | 32.89971 | 43.11340 | ⋯ | 17.90711 | 2.392109 |  7.846031 | 4.413440 | 3.580818 | 2.817938 | 52.33897 | 8.748009 | 8.576732 |  8.207267 |\n",
       "| fe_ax_1 | 0.00000000 | 9.463016 | 0.06496191 | 4.592011 | 22.15344 | 0.03798045 | 1.0960165 | 26.90928 | 29.74793 | ⋯ | 14.90511 | 3.796637 | 15.475760 | 6.061926 | 3.309983 | 3.197201 | 16.52732 | 7.346755 | 5.679001 | 10.680909 |\n",
       "| fe_ax_2 | 0.04701613 | 6.334622 | 0.15844851 | 9.687336 | 19.60612 | 0.04631903 | 0.3669225 | 28.41250 | 35.30265 | ⋯ | 17.87317 | 3.396628 | 11.164825 | 5.079860 | 2.392111 | 3.205963 | 14.71874 | 6.689560 | 4.276965 |  8.967043 |\n",
       "| fe_ax_3 | 0.00000000 | 5.639964 | 0.00000000 | 6.831030 | 16.69971 | 0.00000000 | 1.3223168 | 35.06826 | 32.36720 | ⋯ | 11.81573 | 5.945649 |  8.521584 | 2.561196 | 3.114575 | 2.933240 | 12.00139 | 5.899499 | 6.239419 | 12.185660 |\n",
       "\n"
      ],
      "text/plain": [
       "  sample_id A1CF       A2M      A4GNT      AAAS     AACS     AADAC     \n",
       "1 fe_an_1   0.00000000 7.093980 0.00000000 7.692193 49.32907 0.03223515\n",
       "2 fe_an_2   0.04557418 4.603331 0.00000000 7.222035 44.81534 0.00000000\n",
       "3 fe_an_3   0.02213098 6.060817 0.00000000 6.012078 37.57134 0.00000000\n",
       "4 fe_ax_1   0.00000000 9.463016 0.06496191 4.592011 22.15344 0.03798045\n",
       "5 fe_ax_2   0.04701613 6.334622 0.15844851 9.687336 19.60612 0.04631903\n",
       "6 fe_ax_3   0.00000000 5.639964 0.00000000 6.831030 16.69971 0.00000000\n",
       "  AADAT     AAGAB    AAK1     ⋯ ZSWIM7   ZSWIM8   ZUP1      ZW10     ZWILCH  \n",
       "1 0.6634673 31.15091 39.58131 ⋯ 12.36159 2.094811 11.435813 4.783891 2.111552\n",
       "2 0.3810742 33.07874 35.77192 ⋯ 19.13082 1.606932  7.308235 5.893162 3.651458\n",
       "3 1.1488581 32.89971 43.11340 ⋯ 17.90711 2.392109  7.846031 4.413440 3.580818\n",
       "4 1.0960165 26.90928 29.74793 ⋯ 14.90511 3.796637 15.475760 6.061926 3.309983\n",
       "5 0.3669225 28.41250 35.30265 ⋯ 17.87317 3.396628 11.164825 5.079860 2.392111\n",
       "6 1.3223168 35.06826 32.36720 ⋯ 11.81573 5.945649  8.521584 2.561196 3.114575\n",
       "  ZXDC     ZYG11B   ZYX      ZZEF1    ZZZ3     \n",
       "1 3.601635 50.19418 8.886919 6.180941  8.451389\n",
       "2 2.799674 60.55626 8.327203 5.846237  6.702416\n",
       "3 2.817938 52.33897 8.748009 8.576732  8.207267\n",
       "4 3.197201 16.52732 7.346755 5.679001 10.680909\n",
       "5 3.205963 14.71874 6.689560 4.276965  8.967043\n",
       "6 2.933240 12.00139 5.899499 6.239419 12.185660"
      ]
     },
     "metadata": {},
     "output_type": "display_data"
    }
   ],
   "source": [
    "gene_mod_cor_tbl <- net$input_data$fpkm %>% as_tibble(rownames='sample_id') \n",
    "head(gene_mod_cor_tbl)"
   ]
  },
  {
   "cell_type": "code",
   "execution_count": 6,
   "id": "9749bcb1",
   "metadata": {},
   "outputs": [
    {
     "data": {
      "text/html": [
       "<style>\n",
       ".list-inline {list-style: none; margin:0; padding: 0}\n",
       ".list-inline>li {display: inline-block}\n",
       ".list-inline>li:not(:last-child)::after {content: \"\\00b7\"; padding: 0 .5ex}\n",
       "</style>\n",
       "<ol class=list-inline><li>'ME2'</li><li>'ME8'</li><li>'ME4'</li><li>'ME11'</li><li>'ME1'</li><li>'ME14'</li><li>'ME5'</li><li>'ME12'</li><li>'ME6'</li><li>'ME9'</li><li>'ME3'</li><li>'ME10'</li><li>'sample_id'</li></ol>\n"
      ],
      "text/latex": [
       "\\begin{enumerate*}\n",
       "\\item 'ME2'\n",
       "\\item 'ME8'\n",
       "\\item 'ME4'\n",
       "\\item 'ME11'\n",
       "\\item 'ME1'\n",
       "\\item 'ME14'\n",
       "\\item 'ME5'\n",
       "\\item 'ME12'\n",
       "\\item 'ME6'\n",
       "\\item 'ME9'\n",
       "\\item 'ME3'\n",
       "\\item 'ME10'\n",
       "\\item 'sample\\_id'\n",
       "\\end{enumerate*}\n"
      ],
      "text/markdown": [
       "1. 'ME2'\n",
       "2. 'ME8'\n",
       "3. 'ME4'\n",
       "4. 'ME11'\n",
       "5. 'ME1'\n",
       "6. 'ME14'\n",
       "7. 'ME5'\n",
       "8. 'ME12'\n",
       "9. 'ME6'\n",
       "10. 'ME9'\n",
       "11. 'ME3'\n",
       "12. 'ME10'\n",
       "13. 'sample_id'\n",
       "\n",
       "\n"
      ],
      "text/plain": [
       " [1] \"ME2\"       \"ME8\"       \"ME4\"       \"ME11\"      \"ME1\"       \"ME14\"     \n",
       " [7] \"ME5\"       \"ME12\"      \"ME6\"       \"ME9\"       \"ME3\"       \"ME10\"     \n",
       "[13] \"sample_id\""
      ]
     },
     "metadata": {},
     "output_type": "display_data"
    }
   ],
   "source": [
    "mes <- net$MEs\n",
    "names(mes)"
   ]
  },
  {
   "cell_type": "code",
   "execution_count": 7,
   "id": "f8f832d6",
   "metadata": {},
   "outputs": [
    {
     "name": "stderr",
     "output_type": "stream",
     "text": [
      "\u001b[1m\u001b[22mJoining, by = \"sample_id\"\n"
     ]
    },
    {
     "data": {
      "text/html": [
       "<table class=\"dataframe\">\n",
       "<caption>A data.frame: 6 × 20803</caption>\n",
       "<thead>\n",
       "\t<tr><th></th><th scope=col>B</th><th scope=col>G</th><th scope=col>D</th><th scope=col>J</th><th scope=col>A</th><th scope=col>L</th><th scope=col>E</th><th scope=col>K</th><th scope=col>F</th><th scope=col>H</th><th scope=col>⋯</th><th scope=col>ZSWIM7</th><th scope=col>ZSWIM8</th><th scope=col>ZUP1</th><th scope=col>ZW10</th><th scope=col>ZWILCH</th><th scope=col>ZXDC</th><th scope=col>ZYG11B</th><th scope=col>ZYX</th><th scope=col>ZZEF1</th><th scope=col>ZZZ3</th></tr>\n",
       "\t<tr><th></th><th scope=col>&lt;dbl&gt;</th><th scope=col>&lt;dbl&gt;</th><th scope=col>&lt;dbl&gt;</th><th scope=col>&lt;dbl&gt;</th><th scope=col>&lt;dbl&gt;</th><th scope=col>&lt;dbl&gt;</th><th scope=col>&lt;dbl&gt;</th><th scope=col>&lt;dbl&gt;</th><th scope=col>&lt;dbl&gt;</th><th scope=col>&lt;dbl&gt;</th><th scope=col>⋯</th><th scope=col>&lt;dbl&gt;</th><th scope=col>&lt;dbl&gt;</th><th scope=col>&lt;dbl&gt;</th><th scope=col>&lt;dbl&gt;</th><th scope=col>&lt;dbl&gt;</th><th scope=col>&lt;dbl&gt;</th><th scope=col>&lt;dbl&gt;</th><th scope=col>&lt;dbl&gt;</th><th scope=col>&lt;dbl&gt;</th><th scope=col>&lt;dbl&gt;</th></tr>\n",
       "</thead>\n",
       "<tbody>\n",
       "\t<tr><th scope=row>1</th><td> 0.13228979</td><td>-0.027382991</td><td>-0.037637380</td><td>-0.015783669</td><td>-0.05466811</td><td> 0.223235091</td><td>-0.10033038</td><td>-0.04839298</td><td> 0.01062152</td><td>-0.034954535</td><td>⋯</td><td>12.36159</td><td>2.094811</td><td>11.435813</td><td>4.783891</td><td>2.111552</td><td>3.601635</td><td>50.19418</td><td>8.886919</td><td>6.180941</td><td> 8.451389</td></tr>\n",
       "\t<tr><th scope=row>2</th><td> 0.15480032</td><td>-0.028171498</td><td>-0.002373231</td><td> 0.256800784</td><td>-0.08578654</td><td>-0.038752513</td><td>-0.10197053</td><td>-0.04006914</td><td>-0.01404994</td><td>-0.022238371</td><td>⋯</td><td>19.13082</td><td>1.606932</td><td> 7.308235</td><td>5.893162</td><td>3.651458</td><td>2.799674</td><td>60.55626</td><td>8.327203</td><td>5.846237</td><td> 6.702416</td></tr>\n",
       "\t<tr><th scope=row>3</th><td> 0.11725144</td><td> 0.005571085</td><td>-0.034747519</td><td>-0.023217746</td><td>-0.02021596</td><td>-0.020950488</td><td>-0.09059430</td><td>-0.01980841</td><td> 0.04255413</td><td>-0.179675809</td><td>⋯</td><td>17.90711</td><td>2.392109</td><td> 7.846031</td><td>4.413440</td><td>3.580818</td><td>2.817938</td><td>52.33897</td><td>8.748009</td><td>8.576732</td><td> 8.207267</td></tr>\n",
       "\t<tr><th scope=row>4</th><td> 0.01566468</td><td>-0.040542373</td><td>-0.206990365</td><td> 0.027966101</td><td> 0.19810091</td><td> 0.424405897</td><td>-0.08530025</td><td>-0.04868079</td><td>-0.04309892</td><td> 0.162617704</td><td>⋯</td><td>14.90511</td><td>3.796637</td><td>15.475760</td><td>6.061926</td><td>3.309983</td><td>3.197201</td><td>16.52732</td><td>7.346755</td><td>5.679001</td><td>10.680909</td></tr>\n",
       "\t<tr><th scope=row>5</th><td>-0.04173157</td><td>-0.053452053</td><td>-0.013933284</td><td> 0.397512233</td><td> 0.15094658</td><td> 0.015225273</td><td>-0.10250359</td><td>-0.03704185</td><td>-0.05772286</td><td> 0.005850349</td><td>⋯</td><td>17.87317</td><td>3.396628</td><td>11.164825</td><td>5.079860</td><td>2.392111</td><td>3.205963</td><td>14.71874</td><td>6.689560</td><td>4.276965</td><td> 8.967043</td></tr>\n",
       "\t<tr><th scope=row>6</th><td>-0.06386408</td><td>-0.039814282</td><td>-0.087049311</td><td> 0.006507481</td><td> 0.22478553</td><td> 0.008869193</td><td>-0.08940201</td><td>-0.02379018</td><td>-0.03756456</td><td> 0.136546573</td><td>⋯</td><td>11.81573</td><td>5.945649</td><td> 8.521584</td><td>2.561196</td><td>3.114575</td><td>2.933240</td><td>12.00139</td><td>5.899499</td><td>6.239419</td><td>12.185660</td></tr>\n",
       "</tbody>\n",
       "</table>\n"
      ],
      "text/latex": [
       "A data.frame: 6 × 20803\n",
       "\\begin{tabular}{r|lllllllllllllllllllll}\n",
       "  & B & G & D & J & A & L & E & K & F & H & ⋯ & ZSWIM7 & ZSWIM8 & ZUP1 & ZW10 & ZWILCH & ZXDC & ZYG11B & ZYX & ZZEF1 & ZZZ3\\\\\n",
       "  & <dbl> & <dbl> & <dbl> & <dbl> & <dbl> & <dbl> & <dbl> & <dbl> & <dbl> & <dbl> & ⋯ & <dbl> & <dbl> & <dbl> & <dbl> & <dbl> & <dbl> & <dbl> & <dbl> & <dbl> & <dbl>\\\\\n",
       "\\hline\n",
       "\t1 &  0.13228979 & -0.027382991 & -0.037637380 & -0.015783669 & -0.05466811 &  0.223235091 & -0.10033038 & -0.04839298 &  0.01062152 & -0.034954535 & ⋯ & 12.36159 & 2.094811 & 11.435813 & 4.783891 & 2.111552 & 3.601635 & 50.19418 & 8.886919 & 6.180941 &  8.451389\\\\\n",
       "\t2 &  0.15480032 & -0.028171498 & -0.002373231 &  0.256800784 & -0.08578654 & -0.038752513 & -0.10197053 & -0.04006914 & -0.01404994 & -0.022238371 & ⋯ & 19.13082 & 1.606932 &  7.308235 & 5.893162 & 3.651458 & 2.799674 & 60.55626 & 8.327203 & 5.846237 &  6.702416\\\\\n",
       "\t3 &  0.11725144 &  0.005571085 & -0.034747519 & -0.023217746 & -0.02021596 & -0.020950488 & -0.09059430 & -0.01980841 &  0.04255413 & -0.179675809 & ⋯ & 17.90711 & 2.392109 &  7.846031 & 4.413440 & 3.580818 & 2.817938 & 52.33897 & 8.748009 & 8.576732 &  8.207267\\\\\n",
       "\t4 &  0.01566468 & -0.040542373 & -0.206990365 &  0.027966101 &  0.19810091 &  0.424405897 & -0.08530025 & -0.04868079 & -0.04309892 &  0.162617704 & ⋯ & 14.90511 & 3.796637 & 15.475760 & 6.061926 & 3.309983 & 3.197201 & 16.52732 & 7.346755 & 5.679001 & 10.680909\\\\\n",
       "\t5 & -0.04173157 & -0.053452053 & -0.013933284 &  0.397512233 &  0.15094658 &  0.015225273 & -0.10250359 & -0.03704185 & -0.05772286 &  0.005850349 & ⋯ & 17.87317 & 3.396628 & 11.164825 & 5.079860 & 2.392111 & 3.205963 & 14.71874 & 6.689560 & 4.276965 &  8.967043\\\\\n",
       "\t6 & -0.06386408 & -0.039814282 & -0.087049311 &  0.006507481 &  0.22478553 &  0.008869193 & -0.08940201 & -0.02379018 & -0.03756456 &  0.136546573 & ⋯ & 11.81573 & 5.945649 &  8.521584 & 2.561196 & 3.114575 & 2.933240 & 12.00139 & 5.899499 & 6.239419 & 12.185660\\\\\n",
       "\\end{tabular}\n"
      ],
      "text/markdown": [
       "\n",
       "A data.frame: 6 × 20803\n",
       "\n",
       "| <!--/--> | B &lt;dbl&gt; | G &lt;dbl&gt; | D &lt;dbl&gt; | J &lt;dbl&gt; | A &lt;dbl&gt; | L &lt;dbl&gt; | E &lt;dbl&gt; | K &lt;dbl&gt; | F &lt;dbl&gt; | H &lt;dbl&gt; | ⋯ ⋯ | ZSWIM7 &lt;dbl&gt; | ZSWIM8 &lt;dbl&gt; | ZUP1 &lt;dbl&gt; | ZW10 &lt;dbl&gt; | ZWILCH &lt;dbl&gt; | ZXDC &lt;dbl&gt; | ZYG11B &lt;dbl&gt; | ZYX &lt;dbl&gt; | ZZEF1 &lt;dbl&gt; | ZZZ3 &lt;dbl&gt; |\n",
       "|---|---|---|---|---|---|---|---|---|---|---|---|---|---|---|---|---|---|---|---|---|---|\n",
       "| 1 |  0.13228979 | -0.027382991 | -0.037637380 | -0.015783669 | -0.05466811 |  0.223235091 | -0.10033038 | -0.04839298 |  0.01062152 | -0.034954535 | ⋯ | 12.36159 | 2.094811 | 11.435813 | 4.783891 | 2.111552 | 3.601635 | 50.19418 | 8.886919 | 6.180941 |  8.451389 |\n",
       "| 2 |  0.15480032 | -0.028171498 | -0.002373231 |  0.256800784 | -0.08578654 | -0.038752513 | -0.10197053 | -0.04006914 | -0.01404994 | -0.022238371 | ⋯ | 19.13082 | 1.606932 |  7.308235 | 5.893162 | 3.651458 | 2.799674 | 60.55626 | 8.327203 | 5.846237 |  6.702416 |\n",
       "| 3 |  0.11725144 |  0.005571085 | -0.034747519 | -0.023217746 | -0.02021596 | -0.020950488 | -0.09059430 | -0.01980841 |  0.04255413 | -0.179675809 | ⋯ | 17.90711 | 2.392109 |  7.846031 | 4.413440 | 3.580818 | 2.817938 | 52.33897 | 8.748009 | 8.576732 |  8.207267 |\n",
       "| 4 |  0.01566468 | -0.040542373 | -0.206990365 |  0.027966101 |  0.19810091 |  0.424405897 | -0.08530025 | -0.04868079 | -0.04309892 |  0.162617704 | ⋯ | 14.90511 | 3.796637 | 15.475760 | 6.061926 | 3.309983 | 3.197201 | 16.52732 | 7.346755 | 5.679001 | 10.680909 |\n",
       "| 5 | -0.04173157 | -0.053452053 | -0.013933284 |  0.397512233 |  0.15094658 |  0.015225273 | -0.10250359 | -0.03704185 | -0.05772286 |  0.005850349 | ⋯ | 17.87317 | 3.396628 | 11.164825 | 5.079860 | 2.392111 | 3.205963 | 14.71874 | 6.689560 | 4.276965 |  8.967043 |\n",
       "| 6 | -0.06386408 | -0.039814282 | -0.087049311 |  0.006507481 |  0.22478553 |  0.008869193 | -0.08940201 | -0.02379018 | -0.03756456 |  0.136546573 | ⋯ | 11.81573 | 5.945649 |  8.521584 | 2.561196 | 3.114575 | 2.933240 | 12.00139 | 5.899499 | 6.239419 | 12.185660 |\n",
       "\n"
      ],
      "text/plain": [
       "  B           G            D            J            A           L           \n",
       "1  0.13228979 -0.027382991 -0.037637380 -0.015783669 -0.05466811  0.223235091\n",
       "2  0.15480032 -0.028171498 -0.002373231  0.256800784 -0.08578654 -0.038752513\n",
       "3  0.11725144  0.005571085 -0.034747519 -0.023217746 -0.02021596 -0.020950488\n",
       "4  0.01566468 -0.040542373 -0.206990365  0.027966101  0.19810091  0.424405897\n",
       "5 -0.04173157 -0.053452053 -0.013933284  0.397512233  0.15094658  0.015225273\n",
       "6 -0.06386408 -0.039814282 -0.087049311  0.006507481  0.22478553  0.008869193\n",
       "  E           K           F           H            ⋯ ZSWIM7   ZSWIM8  \n",
       "1 -0.10033038 -0.04839298  0.01062152 -0.034954535 ⋯ 12.36159 2.094811\n",
       "2 -0.10197053 -0.04006914 -0.01404994 -0.022238371 ⋯ 19.13082 1.606932\n",
       "3 -0.09059430 -0.01980841  0.04255413 -0.179675809 ⋯ 17.90711 2.392109\n",
       "4 -0.08530025 -0.04868079 -0.04309892  0.162617704 ⋯ 14.90511 3.796637\n",
       "5 -0.10250359 -0.03704185 -0.05772286  0.005850349 ⋯ 17.87317 3.396628\n",
       "6 -0.08940201 -0.02379018 -0.03756456  0.136546573 ⋯ 11.81573 5.945649\n",
       "  ZUP1      ZW10     ZWILCH   ZXDC     ZYG11B   ZYX      ZZEF1    ZZZ3     \n",
       "1 11.435813 4.783891 2.111552 3.601635 50.19418 8.886919 6.180941  8.451389\n",
       "2  7.308235 5.893162 3.651458 2.799674 60.55626 8.327203 5.846237  6.702416\n",
       "3  7.846031 4.413440 3.580818 2.817938 52.33897 8.748009 8.576732  8.207267\n",
       "4 15.475760 6.061926 3.309983 3.197201 16.52732 7.346755 5.679001 10.680909\n",
       "5 11.164825 5.079860 2.392111 3.205963 14.71874 6.689560 4.276965  8.967043\n",
       "6  8.521584 2.561196 3.114575 2.933240 12.00139 5.899499 6.239419 12.185660"
      ]
     },
     "metadata": {},
     "output_type": "display_data"
    }
   ],
   "source": [
    "names(mes) = c('B', 'G', 'D', 'J', 'A', 'L', 'E', 'K', 'F', 'H', 'C', 'I', 'sample_id')\n",
    "Mes <- mes %>% as_tibble(rownames='sample_id') \n",
    "gene_mod_cor_tbl <- left_join(mes,gene_mod_cor_tbl)\n",
    "head(gene_mod_cor_tbl)"
   ]
  },
  {
   "cell_type": "markdown",
   "id": "dbda4c3e",
   "metadata": {},
   "source": [
    "## Now I need to correlate each of the genes to each of the MEGs across samples\n",
    "## I want a matrix with cols = genes, rows = MEGs, value is results of WGCNA cor "
   ]
  },
  {
   "cell_type": "code",
   "execution_count": 8,
   "id": "4d684591",
   "metadata": {},
   "outputs": [],
   "source": [
    "megs <-c('A', 'B', 'C', 'D', 'E', 'F', 'G', 'H', 'I', 'J', 'K', 'L')\n",
    "res <- gene_mod_cor_tbl %>% select(one_of(megs)) %>%\n",
    "    lapply(function(meg){\n",
    "        res <- gene_mod_cor_tbl %>% select(-one_of(c(megs,'sample_id'))) %>%\n",
    "            lapply(function(gene){\n",
    "                return(cor(gene,meg))\n",
    "            })\n",
    "        return(res)\n",
    "    })"
   ]
  },
  {
   "cell_type": "code",
   "execution_count": 9,
   "id": "8bf3da2d",
   "metadata": {},
   "outputs": [],
   "source": [
    "res2 <- res %>% as_tibble \n"
   ]
  },
  {
   "cell_type": "code",
   "execution_count": 10,
   "id": "4af44cee",
   "metadata": {
    "scrolled": true
   },
   "outputs": [
    {
     "name": "stderr",
     "output_type": "stream",
     "text": [
      "\u001b[1m\u001b[22mJoining, by = \"gene_id\"\n"
     ]
    },
    {
     "data": {
      "text/html": [
       "<table class=\"dataframe\">\n",
       "<caption>A tibble: 6 × 14</caption>\n",
       "<thead>\n",
       "\t<tr><th scope=col>A</th><th scope=col>B</th><th scope=col>C</th><th scope=col>D</th><th scope=col>E</th><th scope=col>F</th><th scope=col>G</th><th scope=col>H</th><th scope=col>I</th><th scope=col>J</th><th scope=col>K</th><th scope=col>L</th><th scope=col>gene_id</th><th scope=col>me_assigned</th></tr>\n",
       "\t<tr><th scope=col>&lt;dbl&gt;</th><th scope=col>&lt;dbl&gt;</th><th scope=col>&lt;dbl&gt;</th><th scope=col>&lt;dbl&gt;</th><th scope=col>&lt;dbl&gt;</th><th scope=col>&lt;dbl&gt;</th><th scope=col>&lt;dbl&gt;</th><th scope=col>&lt;dbl&gt;</th><th scope=col>&lt;dbl&gt;</th><th scope=col>&lt;dbl&gt;</th><th scope=col>&lt;dbl&gt;</th><th scope=col>&lt;dbl&gt;</th><th scope=col>&lt;chr&gt;</th><th scope=col>&lt;fct&gt;</th></tr>\n",
       "</thead>\n",
       "<tbody>\n",
       "\t<tr><td>-0.03370932</td><td> 0.18224771</td><td>-0.09239870</td><td>-0.15846667</td><td> 0.17859488</td><td> 0.001863475</td><td> 0.12842694</td><td>-0.07431761</td><td>-0.07838895</td><td>-0.04283075</td><td>-0.11005667</td><td>-0.25708316</td><td>A1CF </td><td>X</td></tr>\n",
       "\t<tr><td> 0.02510845</td><td>-0.36403524</td><td> 0.30267066</td><td>-0.08856526</td><td> 0.44178052</td><td> 0.037101574</td><td>-0.05202142</td><td> 0.13264074</td><td> 0.33842222</td><td>-0.05095856</td><td>-0.15834949</td><td> 0.30518858</td><td>A2M  </td><td>X</td></tr>\n",
       "\t<tr><td> 0.18255477</td><td> 0.10507450</td><td>-0.10350080</td><td>-0.06411247</td><td>-0.08134665</td><td>-0.112865812</td><td> 0.10047994</td><td>-0.04726497</td><td>-0.11964807</td><td> 0.50213499</td><td> 0.05178730</td><td> 0.09712287</td><td>A4GNT</td><td>J</td></tr>\n",
       "\t<tr><td>-0.17604402</td><td>-0.36389087</td><td> 0.33743185</td><td> 0.76031742</td><td> 0.05085780</td><td>-0.326007923</td><td>-0.07671473</td><td>-0.15493875</td><td>-0.06018514</td><td> 0.15980198</td><td> 0.14182718</td><td>-0.10599198</td><td>AAAS </td><td>D</td></tr>\n",
       "\t<tr><td>-0.72859604</td><td> 0.26244931</td><td> 0.29321445</td><td> 0.02052947</td><td> 0.04168985</td><td> 0.032170986</td><td> 0.27472125</td><td>-0.06501581</td><td>-0.13804126</td><td>-0.04817724</td><td> 0.07641915</td><td>-0.04250240</td><td>AACS </td><td>A</td></tr>\n",
       "\t<tr><td>-0.07273316</td><td> 0.09715425</td><td> 0.02042227</td><td> 0.07404382</td><td>-0.05979183</td><td>-0.064351647</td><td> 0.10828197</td><td>-0.02043833</td><td>-0.14172340</td><td>-0.13060679</td><td>-0.07616428</td><td>-0.02772431</td><td>AADAC</td><td>X</td></tr>\n",
       "</tbody>\n",
       "</table>\n"
      ],
      "text/latex": [
       "A tibble: 6 × 14\n",
       "\\begin{tabular}{llllllllllllll}\n",
       " A & B & C & D & E & F & G & H & I & J & K & L & gene\\_id & me\\_assigned\\\\\n",
       " <dbl> & <dbl> & <dbl> & <dbl> & <dbl> & <dbl> & <dbl> & <dbl> & <dbl> & <dbl> & <dbl> & <dbl> & <chr> & <fct>\\\\\n",
       "\\hline\n",
       "\t -0.03370932 &  0.18224771 & -0.09239870 & -0.15846667 &  0.17859488 &  0.001863475 &  0.12842694 & -0.07431761 & -0.07838895 & -0.04283075 & -0.11005667 & -0.25708316 & A1CF  & X\\\\\n",
       "\t  0.02510845 & -0.36403524 &  0.30267066 & -0.08856526 &  0.44178052 &  0.037101574 & -0.05202142 &  0.13264074 &  0.33842222 & -0.05095856 & -0.15834949 &  0.30518858 & A2M   & X\\\\\n",
       "\t  0.18255477 &  0.10507450 & -0.10350080 & -0.06411247 & -0.08134665 & -0.112865812 &  0.10047994 & -0.04726497 & -0.11964807 &  0.50213499 &  0.05178730 &  0.09712287 & A4GNT & J\\\\\n",
       "\t -0.17604402 & -0.36389087 &  0.33743185 &  0.76031742 &  0.05085780 & -0.326007923 & -0.07671473 & -0.15493875 & -0.06018514 &  0.15980198 &  0.14182718 & -0.10599198 & AAAS  & D\\\\\n",
       "\t -0.72859604 &  0.26244931 &  0.29321445 &  0.02052947 &  0.04168985 &  0.032170986 &  0.27472125 & -0.06501581 & -0.13804126 & -0.04817724 &  0.07641915 & -0.04250240 & AACS  & A\\\\\n",
       "\t -0.07273316 &  0.09715425 &  0.02042227 &  0.07404382 & -0.05979183 & -0.064351647 &  0.10828197 & -0.02043833 & -0.14172340 & -0.13060679 & -0.07616428 & -0.02772431 & AADAC & X\\\\\n",
       "\\end{tabular}\n"
      ],
      "text/markdown": [
       "\n",
       "A tibble: 6 × 14\n",
       "\n",
       "| A &lt;dbl&gt; | B &lt;dbl&gt; | C &lt;dbl&gt; | D &lt;dbl&gt; | E &lt;dbl&gt; | F &lt;dbl&gt; | G &lt;dbl&gt; | H &lt;dbl&gt; | I &lt;dbl&gt; | J &lt;dbl&gt; | K &lt;dbl&gt; | L &lt;dbl&gt; | gene_id &lt;chr&gt; | me_assigned &lt;fct&gt; |\n",
       "|---|---|---|---|---|---|---|---|---|---|---|---|---|---|\n",
       "| -0.03370932 |  0.18224771 | -0.09239870 | -0.15846667 |  0.17859488 |  0.001863475 |  0.12842694 | -0.07431761 | -0.07838895 | -0.04283075 | -0.11005667 | -0.25708316 | A1CF  | X |\n",
       "|  0.02510845 | -0.36403524 |  0.30267066 | -0.08856526 |  0.44178052 |  0.037101574 | -0.05202142 |  0.13264074 |  0.33842222 | -0.05095856 | -0.15834949 |  0.30518858 | A2M   | X |\n",
       "|  0.18255477 |  0.10507450 | -0.10350080 | -0.06411247 | -0.08134665 | -0.112865812 |  0.10047994 | -0.04726497 | -0.11964807 |  0.50213499 |  0.05178730 |  0.09712287 | A4GNT | J |\n",
       "| -0.17604402 | -0.36389087 |  0.33743185 |  0.76031742 |  0.05085780 | -0.326007923 | -0.07671473 | -0.15493875 | -0.06018514 |  0.15980198 |  0.14182718 | -0.10599198 | AAAS  | D |\n",
       "| -0.72859604 |  0.26244931 |  0.29321445 |  0.02052947 |  0.04168985 |  0.032170986 |  0.27472125 | -0.06501581 | -0.13804126 | -0.04817724 |  0.07641915 | -0.04250240 | AACS  | A |\n",
       "| -0.07273316 |  0.09715425 |  0.02042227 |  0.07404382 | -0.05979183 | -0.064351647 |  0.10828197 | -0.02043833 | -0.14172340 | -0.13060679 | -0.07616428 | -0.02772431 | AADAC | X |\n",
       "\n"
      ],
      "text/plain": [
       "  A           B           C           D           E           F           \n",
       "1 -0.03370932  0.18224771 -0.09239870 -0.15846667  0.17859488  0.001863475\n",
       "2  0.02510845 -0.36403524  0.30267066 -0.08856526  0.44178052  0.037101574\n",
       "3  0.18255477  0.10507450 -0.10350080 -0.06411247 -0.08134665 -0.112865812\n",
       "4 -0.17604402 -0.36389087  0.33743185  0.76031742  0.05085780 -0.326007923\n",
       "5 -0.72859604  0.26244931  0.29321445  0.02052947  0.04168985  0.032170986\n",
       "6 -0.07273316  0.09715425  0.02042227  0.07404382 -0.05979183 -0.064351647\n",
       "  G           H           I           J           K           L          \n",
       "1  0.12842694 -0.07431761 -0.07838895 -0.04283075 -0.11005667 -0.25708316\n",
       "2 -0.05202142  0.13264074  0.33842222 -0.05095856 -0.15834949  0.30518858\n",
       "3  0.10047994 -0.04726497 -0.11964807  0.50213499  0.05178730  0.09712287\n",
       "4 -0.07671473 -0.15493875 -0.06018514  0.15980198  0.14182718 -0.10599198\n",
       "5  0.27472125 -0.06501581 -0.13804126 -0.04817724  0.07641915 -0.04250240\n",
       "6  0.10828197 -0.02043833 -0.14172340 -0.13060679 -0.07616428 -0.02772431\n",
       "  gene_id me_assigned\n",
       "1 A1CF    X          \n",
       "2 A2M     X          \n",
       "3 A4GNT   J          \n",
       "4 AAAS    D          \n",
       "5 AACS    A          \n",
       "6 AADAC   X          "
      ]
     },
     "metadata": {},
     "output_type": "display_data"
    }
   ],
   "source": [
    "res3 <- res2 %>% mutate(gene_id = names(res2$A)) %>% mutate_at(megs,as.numeric) %>% left_join(gene_tbl)\n",
    "head(res3)"
   ]
  },
  {
   "cell_type": "code",
   "execution_count": 12,
   "id": "0a06ba4c",
   "metadata": {},
   "outputs": [],
   "source": [
    "saveRDS(res3,'4_mod_membership_all_genes_broken_out.rds')"
   ]
  },
  {
   "cell_type": "code",
   "execution_count": 13,
   "id": "3640bbcb",
   "metadata": {},
   "outputs": [
    {
     "data": {
      "text/plain": [
       "R version 4.2.1 (2022-06-23)\n",
       "Platform: x86_64-pc-linux-gnu (64-bit)\n",
       "Running under: Ubuntu 22.04.1 LTS\n",
       "\n",
       "Matrix products: default\n",
       "BLAS:   /home/mdavenport/bin/R4.2.1/R-4.2.1/lib/libRblas.so\n",
       "LAPACK: /home/mdavenport/bin/R4.2.1/R-4.2.1/lib/libRlapack.so\n",
       "\n",
       "locale:\n",
       " [1] LC_CTYPE=C.UTF-8       LC_NUMERIC=C           LC_TIME=C.UTF-8       \n",
       " [4] LC_COLLATE=C.UTF-8     LC_MONETARY=C.UTF-8    LC_MESSAGES=C.UTF-8   \n",
       " [7] LC_PAPER=C.UTF-8       LC_NAME=C              LC_ADDRESS=C          \n",
       "[10] LC_TELEPHONE=C         LC_MEASUREMENT=C.UTF-8 LC_IDENTIFICATION=C   \n",
       "\n",
       "attached base packages:\n",
       "[1] stats     graphics  grDevices utils     datasets  methods   base     \n",
       "\n",
       "other attached packages:\n",
       " [1] WGCNA_1.71            fastcluster_1.2.3     dynamicTreeCut_1.63-1\n",
       " [4] forcats_0.5.2         stringr_1.4.1         dplyr_1.0.10         \n",
       " [7] purrr_0.3.5           readr_2.1.3           tidyr_1.2.1          \n",
       "[10] tibble_3.1.8          ggplot2_3.3.6         tidyverse_1.3.2      \n",
       "\n",
       "loaded via a namespace (and not attached):\n",
       "  [1] googledrive_2.0.0      colorspace_2.0-3       deldir_1.0-6          \n",
       "  [4] ellipsis_0.3.2         IRdisplay_1.1          htmlTable_2.4.1       \n",
       "  [7] XVector_0.36.0         base64enc_0.1-3        fs_1.5.2              \n",
       " [10] rstudioapi_0.14        bit64_4.0.5            AnnotationDbi_1.58.0  \n",
       " [13] fansi_1.0.3            lubridate_1.8.0        xml2_1.3.3            \n",
       " [16] codetools_0.2-18       splines_4.2.1          doParallel_1.0.17     \n",
       " [19] cachem_1.0.6           impute_1.70.0          knitr_1.40            \n",
       " [22] IRkernel_1.3           Formula_1.2-4          jsonlite_1.8.3        \n",
       " [25] broom_1.0.1            cluster_2.1.4          GO.db_3.15.0          \n",
       " [28] dbplyr_2.2.1           png_0.1-7              compiler_4.2.1        \n",
       " [31] httr_1.4.4             backports_1.4.1        assertthat_0.2.1      \n",
       " [34] Matrix_1.5-1           fastmap_1.1.0          gargle_1.2.1          \n",
       " [37] cli_3.4.1              htmltools_0.5.3        tools_4.2.1           \n",
       " [40] gtable_0.3.1           glue_1.6.2             GenomeInfoDbData_1.2.8\n",
       " [43] Rcpp_1.0.9             Biobase_2.56.0         cellranger_1.1.0      \n",
       " [46] vctrs_0.5.0            Biostrings_2.64.1      preprocessCore_1.58.0 \n",
       " [49] iterators_1.0.14       xfun_0.34              rvest_1.0.3           \n",
       " [52] lifecycle_1.0.3        googlesheets4_1.0.1    zlibbioc_1.42.0       \n",
       " [55] scales_1.2.1           hms_1.1.2              parallel_4.2.1        \n",
       " [58] RColorBrewer_1.1-3     memoise_2.0.1          gridExtra_2.3         \n",
       " [61] rpart_4.1.19           latticeExtra_0.6-30    stringi_1.7.8         \n",
       " [64] RSQLite_2.2.18         S4Vectors_0.34.0       foreach_1.5.2         \n",
       " [67] checkmate_2.1.0        BiocGenerics_0.42.0    repr_1.1.4            \n",
       " [70] GenomeInfoDb_1.32.4    rlang_1.0.6            pkgconfig_2.0.3       \n",
       " [73] bitops_1.0-7           matrixStats_0.62.0     evaluate_0.17         \n",
       " [76] lattice_0.20-45        htmlwidgets_1.5.4      bit_4.0.4             \n",
       " [79] tidyselect_1.2.0       magrittr_2.0.3         R6_2.5.1              \n",
       " [82] IRanges_2.30.1         generics_0.1.3         Hmisc_4.7-1           \n",
       " [85] pbdZMQ_0.3-7           DBI_1.1.3              pillar_1.8.1          \n",
       " [88] haven_2.5.1            foreign_0.8-82         withr_2.5.0           \n",
       " [91] survival_3.4-0         KEGGREST_1.36.3        RCurl_1.98-1.9        \n",
       " [94] nnet_7.3-18            modelr_0.1.9           crayon_1.5.2          \n",
       " [97] uuid_1.1-0             interp_1.1-3           utf8_1.2.2            \n",
       "[100] tzdb_0.3.0             jpeg_0.1-9             grid_4.2.1            \n",
       "[103] readxl_1.4.1           data.table_1.14.4      blob_1.2.3            \n",
       "[106] reprex_2.0.2           digest_0.6.30          stats4_4.2.1          \n",
       "[109] munsell_0.5.0         "
      ]
     },
     "metadata": {},
     "output_type": "display_data"
    }
   ],
   "source": [
    "sessionInfo()"
   ]
  }
 ],
 "metadata": {
  "kernelspec": {
   "display_name": "R 4.2",
   "language": "R",
   "name": "ir42"
  },
  "language_info": {
   "codemirror_mode": "r",
   "file_extension": ".r",
   "mimetype": "text/x-r-source",
   "name": "R",
   "pygments_lexer": "r",
   "version": "4.2.1"
  }
 },
 "nbformat": 4,
 "nbformat_minor": 5
}
